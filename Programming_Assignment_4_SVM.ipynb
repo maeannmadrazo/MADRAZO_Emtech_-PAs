{
  "nbformat": 4,
  "nbformat_minor": 0,
  "metadata": {
    "colab": {
      "provenance": [],
      "authorship_tag": "ABX9TyMaVZU0RJv8Rs+nq/rLGwds",
      "include_colab_link": true
    },
    "kernelspec": {
      "name": "python3",
      "display_name": "Python 3"
    },
    "language_info": {
      "name": "python"
    }
  },
  "cells": [
    {
      "cell_type": "markdown",
      "metadata": {
        "id": "view-in-github",
        "colab_type": "text"
      },
      "source": [
        "<a href=\"https://colab.research.google.com/github/ToniYenC11/EmergingTech/blob/main/Programming_Assignment_4_SVM.ipynb\" target=\"_parent\"><img src=\"https://colab.research.google.com/assets/colab-badge.svg\" alt=\"Open In Colab\"/></a>"
      ]
    },
    {
      "cell_type": "markdown",
      "source": [
        "### Support Vector Classification\n",
        "\n",
        "The code below imports libraries at different parts of the code instead of importing all at the beginning. The goal is to make it instructive to beginners such that they understand where the said libraries will be used instead of knowing it all at the very start. However, good data science practice is to import all libraries at the beginning of the task."
      ],
      "metadata": {
        "id": "299gdExBaKRr"
      }
    },
    {
      "cell_type": "markdown",
      "source": [
        "# Loading Datasets and Splitting\n",
        "\n",
        "- Dataset is a dictionary containing relevant parts of the dataset. Convert `data` to Dataframe and map the `feature_names` to its columns.\n",
        "- `target` will remain as a numpy array since models prefer the labels as a 1d-array. The `target_names` will also not be mapped and instead, will be used for class labelling in visualizations.\n",
        "- `info` will immediately look for missing values.\n",
        "- Use `train_test_split` to split, setting `test_size` to 0.30 so the rest of the data becomes the training set."
      ],
      "metadata": {
        "id": "Ql4LZ3Fgavaf"
      }
    },
    {
      "cell_type": "code",
      "execution_count": 23,
      "metadata": {
        "colab": {
          "base_uri": "https://localhost:8080/",
          "height": 1000
        },
        "id": "d5DMOmhnaDC-",
        "outputId": "a14800ec-b2e5-4e7a-ba80-3bcb3b7d6a4d"
      },
      "outputs": [
        {
          "output_type": "stream",
          "name": "stdout",
          "text": [
            "dict_keys(['data', 'target', 'frame', 'target_names', 'DESCR', 'feature_names', 'filename', 'data_module'])\n"
          ]
        },
        {
          "output_type": "display_data",
          "data": {
            "text/plain": [
              "   mean radius  mean texture  mean perimeter  mean area  mean smoothness  \\\n",
              "0        17.99         10.38          122.80     1001.0          0.11840   \n",
              "1        20.57         17.77          132.90     1326.0          0.08474   \n",
              "2        19.69         21.25          130.00     1203.0          0.10960   \n",
              "3        11.42         20.38           77.58      386.1          0.14250   \n",
              "4        20.29         14.34          135.10     1297.0          0.10030   \n",
              "\n",
              "   mean compactness  mean concavity  mean concave points  mean symmetry  \\\n",
              "0           0.27760          0.3001              0.14710         0.2419   \n",
              "1           0.07864          0.0869              0.07017         0.1812   \n",
              "2           0.15990          0.1974              0.12790         0.2069   \n",
              "3           0.28390          0.2414              0.10520         0.2597   \n",
              "4           0.13280          0.1980              0.10430         0.1809   \n",
              "\n",
              "   mean fractal dimension  ...  worst radius  worst texture  worst perimeter  \\\n",
              "0                 0.07871  ...         25.38          17.33           184.60   \n",
              "1                 0.05667  ...         24.99          23.41           158.80   \n",
              "2                 0.05999  ...         23.57          25.53           152.50   \n",
              "3                 0.09744  ...         14.91          26.50            98.87   \n",
              "4                 0.05883  ...         22.54          16.67           152.20   \n",
              "\n",
              "   worst area  worst smoothness  worst compactness  worst concavity  \\\n",
              "0      2019.0            0.1622             0.6656           0.7119   \n",
              "1      1956.0            0.1238             0.1866           0.2416   \n",
              "2      1709.0            0.1444             0.4245           0.4504   \n",
              "3       567.7            0.2098             0.8663           0.6869   \n",
              "4      1575.0            0.1374             0.2050           0.4000   \n",
              "\n",
              "   worst concave points  worst symmetry  worst fractal dimension  \n",
              "0                0.2654          0.4601                  0.11890  \n",
              "1                0.1860          0.2750                  0.08902  \n",
              "2                0.2430          0.3613                  0.08758  \n",
              "3                0.2575          0.6638                  0.17300  \n",
              "4                0.1625          0.2364                  0.07678  \n",
              "\n",
              "[5 rows x 30 columns]"
            ],
            "text/html": [
              "\n",
              "  <div id=\"df-f02c5324-8e12-444f-8893-2c5849246e21\" class=\"colab-df-container\">\n",
              "    <div>\n",
              "<style scoped>\n",
              "    .dataframe tbody tr th:only-of-type {\n",
              "        vertical-align: middle;\n",
              "    }\n",
              "\n",
              "    .dataframe tbody tr th {\n",
              "        vertical-align: top;\n",
              "    }\n",
              "\n",
              "    .dataframe thead th {\n",
              "        text-align: right;\n",
              "    }\n",
              "</style>\n",
              "<table border=\"1\" class=\"dataframe\">\n",
              "  <thead>\n",
              "    <tr style=\"text-align: right;\">\n",
              "      <th></th>\n",
              "      <th>mean radius</th>\n",
              "      <th>mean texture</th>\n",
              "      <th>mean perimeter</th>\n",
              "      <th>mean area</th>\n",
              "      <th>mean smoothness</th>\n",
              "      <th>mean compactness</th>\n",
              "      <th>mean concavity</th>\n",
              "      <th>mean concave points</th>\n",
              "      <th>mean symmetry</th>\n",
              "      <th>mean fractal dimension</th>\n",
              "      <th>...</th>\n",
              "      <th>worst radius</th>\n",
              "      <th>worst texture</th>\n",
              "      <th>worst perimeter</th>\n",
              "      <th>worst area</th>\n",
              "      <th>worst smoothness</th>\n",
              "      <th>worst compactness</th>\n",
              "      <th>worst concavity</th>\n",
              "      <th>worst concave points</th>\n",
              "      <th>worst symmetry</th>\n",
              "      <th>worst fractal dimension</th>\n",
              "    </tr>\n",
              "  </thead>\n",
              "  <tbody>\n",
              "    <tr>\n",
              "      <th>0</th>\n",
              "      <td>17.99</td>\n",
              "      <td>10.38</td>\n",
              "      <td>122.80</td>\n",
              "      <td>1001.0</td>\n",
              "      <td>0.11840</td>\n",
              "      <td>0.27760</td>\n",
              "      <td>0.3001</td>\n",
              "      <td>0.14710</td>\n",
              "      <td>0.2419</td>\n",
              "      <td>0.07871</td>\n",
              "      <td>...</td>\n",
              "      <td>25.38</td>\n",
              "      <td>17.33</td>\n",
              "      <td>184.60</td>\n",
              "      <td>2019.0</td>\n",
              "      <td>0.1622</td>\n",
              "      <td>0.6656</td>\n",
              "      <td>0.7119</td>\n",
              "      <td>0.2654</td>\n",
              "      <td>0.4601</td>\n",
              "      <td>0.11890</td>\n",
              "    </tr>\n",
              "    <tr>\n",
              "      <th>1</th>\n",
              "      <td>20.57</td>\n",
              "      <td>17.77</td>\n",
              "      <td>132.90</td>\n",
              "      <td>1326.0</td>\n",
              "      <td>0.08474</td>\n",
              "      <td>0.07864</td>\n",
              "      <td>0.0869</td>\n",
              "      <td>0.07017</td>\n",
              "      <td>0.1812</td>\n",
              "      <td>0.05667</td>\n",
              "      <td>...</td>\n",
              "      <td>24.99</td>\n",
              "      <td>23.41</td>\n",
              "      <td>158.80</td>\n",
              "      <td>1956.0</td>\n",
              "      <td>0.1238</td>\n",
              "      <td>0.1866</td>\n",
              "      <td>0.2416</td>\n",
              "      <td>0.1860</td>\n",
              "      <td>0.2750</td>\n",
              "      <td>0.08902</td>\n",
              "    </tr>\n",
              "    <tr>\n",
              "      <th>2</th>\n",
              "      <td>19.69</td>\n",
              "      <td>21.25</td>\n",
              "      <td>130.00</td>\n",
              "      <td>1203.0</td>\n",
              "      <td>0.10960</td>\n",
              "      <td>0.15990</td>\n",
              "      <td>0.1974</td>\n",
              "      <td>0.12790</td>\n",
              "      <td>0.2069</td>\n",
              "      <td>0.05999</td>\n",
              "      <td>...</td>\n",
              "      <td>23.57</td>\n",
              "      <td>25.53</td>\n",
              "      <td>152.50</td>\n",
              "      <td>1709.0</td>\n",
              "      <td>0.1444</td>\n",
              "      <td>0.4245</td>\n",
              "      <td>0.4504</td>\n",
              "      <td>0.2430</td>\n",
              "      <td>0.3613</td>\n",
              "      <td>0.08758</td>\n",
              "    </tr>\n",
              "    <tr>\n",
              "      <th>3</th>\n",
              "      <td>11.42</td>\n",
              "      <td>20.38</td>\n",
              "      <td>77.58</td>\n",
              "      <td>386.1</td>\n",
              "      <td>0.14250</td>\n",
              "      <td>0.28390</td>\n",
              "      <td>0.2414</td>\n",
              "      <td>0.10520</td>\n",
              "      <td>0.2597</td>\n",
              "      <td>0.09744</td>\n",
              "      <td>...</td>\n",
              "      <td>14.91</td>\n",
              "      <td>26.50</td>\n",
              "      <td>98.87</td>\n",
              "      <td>567.7</td>\n",
              "      <td>0.2098</td>\n",
              "      <td>0.8663</td>\n",
              "      <td>0.6869</td>\n",
              "      <td>0.2575</td>\n",
              "      <td>0.6638</td>\n",
              "      <td>0.17300</td>\n",
              "    </tr>\n",
              "    <tr>\n",
              "      <th>4</th>\n",
              "      <td>20.29</td>\n",
              "      <td>14.34</td>\n",
              "      <td>135.10</td>\n",
              "      <td>1297.0</td>\n",
              "      <td>0.10030</td>\n",
              "      <td>0.13280</td>\n",
              "      <td>0.1980</td>\n",
              "      <td>0.10430</td>\n",
              "      <td>0.1809</td>\n",
              "      <td>0.05883</td>\n",
              "      <td>...</td>\n",
              "      <td>22.54</td>\n",
              "      <td>16.67</td>\n",
              "      <td>152.20</td>\n",
              "      <td>1575.0</td>\n",
              "      <td>0.1374</td>\n",
              "      <td>0.2050</td>\n",
              "      <td>0.4000</td>\n",
              "      <td>0.1625</td>\n",
              "      <td>0.2364</td>\n",
              "      <td>0.07678</td>\n",
              "    </tr>\n",
              "  </tbody>\n",
              "</table>\n",
              "<p>5 rows × 30 columns</p>\n",
              "</div>\n",
              "    <div class=\"colab-df-buttons\">\n",
              "\n",
              "  <div class=\"colab-df-container\">\n",
              "    <button class=\"colab-df-convert\" onclick=\"convertToInteractive('df-f02c5324-8e12-444f-8893-2c5849246e21')\"\n",
              "            title=\"Convert this dataframe to an interactive table.\"\n",
              "            style=\"display:none;\">\n",
              "\n",
              "  <svg xmlns=\"http://www.w3.org/2000/svg\" height=\"24px\" viewBox=\"0 -960 960 960\">\n",
              "    <path d=\"M120-120v-720h720v720H120Zm60-500h600v-160H180v160Zm220 220h160v-160H400v160Zm0 220h160v-160H400v160ZM180-400h160v-160H180v160Zm440 0h160v-160H620v160ZM180-180h160v-160H180v160Zm440 0h160v-160H620v160Z\"/>\n",
              "  </svg>\n",
              "    </button>\n",
              "\n",
              "  <style>\n",
              "    .colab-df-container {\n",
              "      display:flex;\n",
              "      gap: 12px;\n",
              "    }\n",
              "\n",
              "    .colab-df-convert {\n",
              "      background-color: #E8F0FE;\n",
              "      border: none;\n",
              "      border-radius: 50%;\n",
              "      cursor: pointer;\n",
              "      display: none;\n",
              "      fill: #1967D2;\n",
              "      height: 32px;\n",
              "      padding: 0 0 0 0;\n",
              "      width: 32px;\n",
              "    }\n",
              "\n",
              "    .colab-df-convert:hover {\n",
              "      background-color: #E2EBFA;\n",
              "      box-shadow: 0px 1px 2px rgba(60, 64, 67, 0.3), 0px 1px 3px 1px rgba(60, 64, 67, 0.15);\n",
              "      fill: #174EA6;\n",
              "    }\n",
              "\n",
              "    .colab-df-buttons div {\n",
              "      margin-bottom: 4px;\n",
              "    }\n",
              "\n",
              "    [theme=dark] .colab-df-convert {\n",
              "      background-color: #3B4455;\n",
              "      fill: #D2E3FC;\n",
              "    }\n",
              "\n",
              "    [theme=dark] .colab-df-convert:hover {\n",
              "      background-color: #434B5C;\n",
              "      box-shadow: 0px 1px 3px 1px rgba(0, 0, 0, 0.15);\n",
              "      filter: drop-shadow(0px 1px 2px rgba(0, 0, 0, 0.3));\n",
              "      fill: #FFFFFF;\n",
              "    }\n",
              "  </style>\n",
              "\n",
              "    <script>\n",
              "      const buttonEl =\n",
              "        document.querySelector('#df-f02c5324-8e12-444f-8893-2c5849246e21 button.colab-df-convert');\n",
              "      buttonEl.style.display =\n",
              "        google.colab.kernel.accessAllowed ? 'block' : 'none';\n",
              "\n",
              "      async function convertToInteractive(key) {\n",
              "        const element = document.querySelector('#df-f02c5324-8e12-444f-8893-2c5849246e21');\n",
              "        const dataTable =\n",
              "          await google.colab.kernel.invokeFunction('convertToInteractive',\n",
              "                                                    [key], {});\n",
              "        if (!dataTable) return;\n",
              "\n",
              "        const docLinkHtml = 'Like what you see? Visit the ' +\n",
              "          '<a target=\"_blank\" href=https://colab.research.google.com/notebooks/data_table.ipynb>data table notebook</a>'\n",
              "          + ' to learn more about interactive tables.';\n",
              "        element.innerHTML = '';\n",
              "        dataTable['output_type'] = 'display_data';\n",
              "        await google.colab.output.renderOutput(dataTable, element);\n",
              "        const docLink = document.createElement('div');\n",
              "        docLink.innerHTML = docLinkHtml;\n",
              "        element.appendChild(docLink);\n",
              "      }\n",
              "    </script>\n",
              "  </div>\n",
              "\n",
              "\n",
              "<div id=\"df-c73b10f9-b13b-4225-90de-f143dd13a10e\">\n",
              "  <button class=\"colab-df-quickchart\" onclick=\"quickchart('df-c73b10f9-b13b-4225-90de-f143dd13a10e')\"\n",
              "            title=\"Suggest charts\"\n",
              "            style=\"display:none;\">\n",
              "\n",
              "<svg xmlns=\"http://www.w3.org/2000/svg\" height=\"24px\"viewBox=\"0 0 24 24\"\n",
              "     width=\"24px\">\n",
              "    <g>\n",
              "        <path d=\"M19 3H5c-1.1 0-2 .9-2 2v14c0 1.1.9 2 2 2h14c1.1 0 2-.9 2-2V5c0-1.1-.9-2-2-2zM9 17H7v-7h2v7zm4 0h-2V7h2v10zm4 0h-2v-4h2v4z\"/>\n",
              "    </g>\n",
              "</svg>\n",
              "  </button>\n",
              "\n",
              "<style>\n",
              "  .colab-df-quickchart {\n",
              "      --bg-color: #E8F0FE;\n",
              "      --fill-color: #1967D2;\n",
              "      --hover-bg-color: #E2EBFA;\n",
              "      --hover-fill-color: #174EA6;\n",
              "      --disabled-fill-color: #AAA;\n",
              "      --disabled-bg-color: #DDD;\n",
              "  }\n",
              "\n",
              "  [theme=dark] .colab-df-quickchart {\n",
              "      --bg-color: #3B4455;\n",
              "      --fill-color: #D2E3FC;\n",
              "      --hover-bg-color: #434B5C;\n",
              "      --hover-fill-color: #FFFFFF;\n",
              "      --disabled-bg-color: #3B4455;\n",
              "      --disabled-fill-color: #666;\n",
              "  }\n",
              "\n",
              "  .colab-df-quickchart {\n",
              "    background-color: var(--bg-color);\n",
              "    border: none;\n",
              "    border-radius: 50%;\n",
              "    cursor: pointer;\n",
              "    display: none;\n",
              "    fill: var(--fill-color);\n",
              "    height: 32px;\n",
              "    padding: 0;\n",
              "    width: 32px;\n",
              "  }\n",
              "\n",
              "  .colab-df-quickchart:hover {\n",
              "    background-color: var(--hover-bg-color);\n",
              "    box-shadow: 0 1px 2px rgba(60, 64, 67, 0.3), 0 1px 3px 1px rgba(60, 64, 67, 0.15);\n",
              "    fill: var(--button-hover-fill-color);\n",
              "  }\n",
              "\n",
              "  .colab-df-quickchart-complete:disabled,\n",
              "  .colab-df-quickchart-complete:disabled:hover {\n",
              "    background-color: var(--disabled-bg-color);\n",
              "    fill: var(--disabled-fill-color);\n",
              "    box-shadow: none;\n",
              "  }\n",
              "\n",
              "  .colab-df-spinner {\n",
              "    border: 2px solid var(--fill-color);\n",
              "    border-color: transparent;\n",
              "    border-bottom-color: var(--fill-color);\n",
              "    animation:\n",
              "      spin 1s steps(1) infinite;\n",
              "  }\n",
              "\n",
              "  @keyframes spin {\n",
              "    0% {\n",
              "      border-color: transparent;\n",
              "      border-bottom-color: var(--fill-color);\n",
              "      border-left-color: var(--fill-color);\n",
              "    }\n",
              "    20% {\n",
              "      border-color: transparent;\n",
              "      border-left-color: var(--fill-color);\n",
              "      border-top-color: var(--fill-color);\n",
              "    }\n",
              "    30% {\n",
              "      border-color: transparent;\n",
              "      border-left-color: var(--fill-color);\n",
              "      border-top-color: var(--fill-color);\n",
              "      border-right-color: var(--fill-color);\n",
              "    }\n",
              "    40% {\n",
              "      border-color: transparent;\n",
              "      border-right-color: var(--fill-color);\n",
              "      border-top-color: var(--fill-color);\n",
              "    }\n",
              "    60% {\n",
              "      border-color: transparent;\n",
              "      border-right-color: var(--fill-color);\n",
              "    }\n",
              "    80% {\n",
              "      border-color: transparent;\n",
              "      border-right-color: var(--fill-color);\n",
              "      border-bottom-color: var(--fill-color);\n",
              "    }\n",
              "    90% {\n",
              "      border-color: transparent;\n",
              "      border-bottom-color: var(--fill-color);\n",
              "    }\n",
              "  }\n",
              "</style>\n",
              "\n",
              "  <script>\n",
              "    async function quickchart(key) {\n",
              "      const quickchartButtonEl =\n",
              "        document.querySelector('#' + key + ' button');\n",
              "      quickchartButtonEl.disabled = true;  // To prevent multiple clicks.\n",
              "      quickchartButtonEl.classList.add('colab-df-spinner');\n",
              "      try {\n",
              "        const charts = await google.colab.kernel.invokeFunction(\n",
              "            'suggestCharts', [key], {});\n",
              "      } catch (error) {\n",
              "        console.error('Error during call to suggestCharts:', error);\n",
              "      }\n",
              "      quickchartButtonEl.classList.remove('colab-df-spinner');\n",
              "      quickchartButtonEl.classList.add('colab-df-quickchart-complete');\n",
              "    }\n",
              "    (() => {\n",
              "      let quickchartButtonEl =\n",
              "        document.querySelector('#df-c73b10f9-b13b-4225-90de-f143dd13a10e button');\n",
              "      quickchartButtonEl.style.display =\n",
              "        google.colab.kernel.accessAllowed ? 'block' : 'none';\n",
              "    })();\n",
              "  </script>\n",
              "</div>\n",
              "\n",
              "    </div>\n",
              "  </div>\n"
            ],
            "application/vnd.google.colaboratory.intrinsic+json": {
              "type": "dataframe"
            }
          },
          "metadata": {}
        },
        {
          "output_type": "display_data",
          "data": {
            "text/plain": [
              "(569, 30)"
            ]
          },
          "metadata": {}
        },
        {
          "output_type": "stream",
          "name": "stdout",
          "text": [
            "<class 'pandas.core.frame.DataFrame'>\n",
            "RangeIndex: 569 entries, 0 to 568\n",
            "Data columns (total 30 columns):\n",
            " #   Column                   Non-Null Count  Dtype  \n",
            "---  ------                   --------------  -----  \n",
            " 0   mean radius              569 non-null    float64\n",
            " 1   mean texture             569 non-null    float64\n",
            " 2   mean perimeter           569 non-null    float64\n",
            " 3   mean area                569 non-null    float64\n",
            " 4   mean smoothness          569 non-null    float64\n",
            " 5   mean compactness         569 non-null    float64\n",
            " 6   mean concavity           569 non-null    float64\n",
            " 7   mean concave points      569 non-null    float64\n",
            " 8   mean symmetry            569 non-null    float64\n",
            " 9   mean fractal dimension   569 non-null    float64\n",
            " 10  radius error             569 non-null    float64\n",
            " 11  texture error            569 non-null    float64\n",
            " 12  perimeter error          569 non-null    float64\n",
            " 13  area error               569 non-null    float64\n",
            " 14  smoothness error         569 non-null    float64\n",
            " 15  compactness error        569 non-null    float64\n",
            " 16  concavity error          569 non-null    float64\n",
            " 17  concave points error     569 non-null    float64\n",
            " 18  symmetry error           569 non-null    float64\n",
            " 19  fractal dimension error  569 non-null    float64\n",
            " 20  worst radius             569 non-null    float64\n",
            " 21  worst texture            569 non-null    float64\n",
            " 22  worst perimeter          569 non-null    float64\n",
            " 23  worst area               569 non-null    float64\n",
            " 24  worst smoothness         569 non-null    float64\n",
            " 25  worst compactness        569 non-null    float64\n",
            " 26  worst concavity          569 non-null    float64\n",
            " 27  worst concave points     569 non-null    float64\n",
            " 28  worst symmetry           569 non-null    float64\n",
            " 29  worst fractal dimension  569 non-null    float64\n",
            "dtypes: float64(30)\n",
            "memory usage: 133.5 KB\n"
          ]
        },
        {
          "output_type": "display_data",
          "data": {
            "text/plain": [
              "None"
            ]
          },
          "metadata": {}
        }
      ],
      "source": [
        "import sklearn.datasets\n",
        "import pandas as pd\n",
        "\n",
        "data = sklearn.datasets.load_breast_cancer()\n",
        "print(data.keys())\n",
        "\n",
        "# Convert the feature data to Dataframe\n",
        "df = pd.DataFrame(data['data'])\n",
        "# Map feature_names to the Dataframe\n",
        "df.columns = data['feature_names']\n",
        "\n",
        "display(df.head())\n",
        "display(df.shape)\n",
        "display(df.info())"
      ]
    },
    {
      "cell_type": "code",
      "source": [
        "# Obtain the target/labels dataframe, but we don't have to map the label names to the labels itself\n",
        "targets = data['target']\n",
        "display(targets)\n",
        "print(data['target_names'])"
      ],
      "metadata": {
        "colab": {
          "base_uri": "https://localhost:8080/",
          "height": 513
        },
        "id": "11oQA4qGaJ5F",
        "outputId": "f3954576-5797-4b79-fd5c-2b408e440bf4"
      },
      "execution_count": 29,
      "outputs": [
        {
          "output_type": "display_data",
          "data": {
            "text/plain": [
              "array([0, 0, 0, 0, 0, 0, 0, 0, 0, 0, 0, 0, 0, 0, 0, 0, 0, 0, 0, 1, 1, 1,\n",
              "       0, 0, 0, 0, 0, 0, 0, 0, 0, 0, 0, 0, 0, 0, 0, 1, 0, 0, 0, 0, 0, 0,\n",
              "       0, 0, 1, 0, 1, 1, 1, 1, 1, 0, 0, 1, 0, 0, 1, 1, 1, 1, 0, 1, 0, 0,\n",
              "       1, 1, 1, 1, 0, 1, 0, 0, 1, 0, 1, 0, 0, 1, 1, 1, 0, 0, 1, 0, 0, 0,\n",
              "       1, 1, 1, 0, 1, 1, 0, 0, 1, 1, 1, 0, 0, 1, 1, 1, 1, 0, 1, 1, 0, 1,\n",
              "       1, 1, 1, 1, 1, 1, 1, 0, 0, 0, 1, 0, 0, 1, 1, 1, 0, 0, 1, 0, 1, 0,\n",
              "       0, 1, 0, 0, 1, 1, 0, 1, 1, 0, 1, 1, 1, 1, 0, 1, 1, 1, 1, 1, 1, 1,\n",
              "       1, 1, 0, 1, 1, 1, 1, 0, 0, 1, 0, 1, 1, 0, 0, 1, 1, 0, 0, 1, 1, 1,\n",
              "       1, 0, 1, 1, 0, 0, 0, 1, 0, 1, 0, 1, 1, 1, 0, 1, 1, 0, 0, 1, 0, 0,\n",
              "       0, 0, 1, 0, 0, 0, 1, 0, 1, 0, 1, 1, 0, 1, 0, 0, 0, 0, 1, 1, 0, 0,\n",
              "       1, 1, 1, 0, 1, 1, 1, 1, 1, 0, 0, 1, 1, 0, 1, 1, 0, 0, 1, 0, 1, 1,\n",
              "       1, 1, 0, 1, 1, 1, 1, 1, 0, 1, 0, 0, 0, 0, 0, 0, 0, 0, 0, 0, 0, 0,\n",
              "       0, 0, 1, 1, 1, 1, 1, 1, 0, 1, 0, 1, 1, 0, 1, 1, 0, 1, 0, 0, 1, 1,\n",
              "       1, 1, 1, 1, 1, 1, 1, 1, 1, 1, 1, 0, 1, 1, 0, 1, 0, 1, 1, 1, 1, 1,\n",
              "       1, 1, 1, 1, 1, 1, 1, 1, 1, 0, 1, 1, 1, 0, 1, 0, 1, 1, 1, 1, 0, 0,\n",
              "       0, 1, 1, 1, 1, 0, 1, 0, 1, 0, 1, 1, 1, 0, 1, 1, 1, 1, 1, 1, 1, 0,\n",
              "       0, 0, 1, 1, 1, 1, 1, 1, 1, 1, 1, 1, 1, 0, 0, 1, 0, 0, 0, 1, 0, 0,\n",
              "       1, 1, 1, 1, 1, 0, 1, 1, 1, 1, 1, 0, 1, 1, 1, 0, 1, 1, 0, 0, 1, 1,\n",
              "       1, 1, 1, 1, 0, 1, 1, 1, 1, 1, 1, 1, 0, 1, 1, 1, 1, 1, 0, 1, 1, 0,\n",
              "       1, 1, 1, 1, 1, 1, 1, 1, 1, 1, 1, 1, 0, 1, 0, 0, 1, 0, 1, 1, 1, 1,\n",
              "       1, 0, 1, 1, 0, 1, 0, 1, 1, 0, 1, 0, 1, 1, 1, 1, 1, 1, 1, 1, 0, 0,\n",
              "       1, 1, 1, 1, 1, 1, 0, 1, 1, 1, 1, 1, 1, 1, 1, 1, 1, 0, 1, 1, 1, 1,\n",
              "       1, 1, 1, 0, 1, 0, 1, 1, 0, 1, 1, 1, 1, 1, 0, 0, 1, 0, 1, 0, 1, 1,\n",
              "       1, 1, 1, 0, 1, 1, 0, 1, 0, 1, 0, 0, 1, 1, 1, 0, 1, 1, 1, 1, 1, 1,\n",
              "       1, 1, 1, 1, 1, 0, 1, 0, 0, 1, 1, 1, 1, 1, 1, 1, 1, 1, 1, 1, 1, 1,\n",
              "       1, 1, 1, 1, 1, 1, 1, 1, 1, 1, 1, 1, 0, 0, 0, 0, 0, 0, 1])"
            ]
          },
          "metadata": {}
        },
        {
          "output_type": "stream",
          "name": "stdout",
          "text": [
            "['malignant' 'benign']\n"
          ]
        }
      ]
    },
    {
      "cell_type": "code",
      "source": [
        "# Split the dataset into 70-30\n",
        "from sklearn.model_selection import train_test_split\n",
        "X_train,X_test,y_train,y_test = train_test_split(df,targets,test_size = 0.30,stratify=targets)"
      ],
      "metadata": {
        "id": "srtxsEe6c3Hx"
      },
      "execution_count": 31,
      "outputs": []
    },
    {
      "cell_type": "markdown",
      "source": [
        "# Data Preprocessing and Training on Default Parameters\n",
        "\n",
        "Pipeline will include a `StandardScaler` to normalize feature values. The idea is that with normalization, the values will be closely distributed with each other since the range is from 0 to 1 only. In this way, the model learns the most efficient way with less computational resources."
      ],
      "metadata": {
        "id": "C4p0RX77eUAh"
      }
    },
    {
      "cell_type": "code",
      "source": [
        "from sklearn.svm import SVC\n",
        "from sklearn.pipeline import Pipeline\n",
        "from sklearn.preprocessing import StandardScaler\n",
        "from sklearn.metrics import confusion_matrix, ConfusionMatrixDisplay\n",
        "import matplotlib.pyplot as plt\n",
        "\n",
        "# Training with default parameters\n",
        "pipe = Pipeline([('scaler', StandardScaler()), ('svc', SVC())])\n",
        "SVC_default = pipe.fit(X_train, y_train)\n",
        "score_default = SVC_default.score(X_test, y_test) # fit will pass the training data to the model. Score will generate accuracy score\n",
        "print(f\"Default parameters Accuracy Score: {round(score_default*100,2)} %\")\n",
        "\n",
        "y_pred = SVC_default.predict(X_test) # Prediction on the test set\n",
        "cm = confusion_matrix(y_test,y_pred)\n",
        "disp = ConfusionMatrixDisplay(confusion_matrix=cm, display_labels=data['target_names'])\n",
        "disp.plot(cmap='Blues')\n",
        "plt.title('Confusion Maxtrix - Default Params')\n",
        "plt.show()"
      ],
      "metadata": {
        "colab": {
          "base_uri": "https://localhost:8080/",
          "height": 490
        },
        "id": "VBjvTu3TeTSe",
        "outputId": "65779caa-8757-44d7-d792-c13b722f3ead"
      },
      "execution_count": 43,
      "outputs": [
        {
          "output_type": "stream",
          "name": "stdout",
          "text": [
            "Default parameters Accuracy Score: 98.83 %\n"
          ]
        },
        {
          "output_type": "display_data",
          "data": {
            "text/plain": [
              "<Figure size 640x480 with 2 Axes>"
            ],
            "image/png": "[encoded data removed]"
          },
          "metadata": {}
        }
      ]
    },
    {
      "cell_type": "markdown",
      "source": [
        "With default parameters, the model was able to achieve 98.83% accuracy on its own. The default parameters are:\n",
        "- **C** (regularization parameter): 1.0\n",
        "- **kernel**: rbf\n",
        "- **degree**: not applicable to rbf\n",
        "- **gamma**: scale"
      ],
      "metadata": {
        "id": "1SXWce8ugrSq"
      }
    },
    {
      "cell_type": "markdown",
      "source": [
        "# Training Using Hyperparameter Tuning\n",
        "\n",
        "Hyperparameter tuning will be done through `GridSearchCV`.\n",
        "\n",
        "\n",
        "\n"
      ],
      "metadata": {
        "id": "wvsM8LJEgquw"
      }
    },
    {
      "cell_type": "code",
      "source": [
        "from sklearn.model_selection import GridSearchCV\n",
        "from sklearn.metrics import accuracy_score, classification_report\n",
        "\n",
        "# Initialize hyperparameters plane\n",
        "hyperparameters = {\n",
        "    \"svc__C\":[1,10,30,50,70,100],\n",
        "    \"svc__gamma\":['auto','scale',0.1,0.3,0.5,0.7,1], #* auto uses 1/n features. scale uses  1 / (n_features * X.var())\n",
        "    \"svc__kernel\":['linear','rbf','poly']\n",
        "}\n",
        "#Perform Grid Search Cross Validation\n",
        "grid_search = GridSearchCV(estimator=pipe, param_grid = hyperparameters, cv=5, scoring='accuracy', n_jobs=-1)\n",
        "grid_search.fit(X_train, y_train)\n",
        "\n",
        "# Evaluate the best model\n",
        "best_model = grid_search.best_estimator_\n",
        "y_pred = best_model.predict(X_test)\n",
        "\n",
        "print(\"Best Parameters:\", grid_search.best_params_)\n",
        "print(\"Classification Report:\\n\", classification_report(y_test, y_pred))\n",
        "print(\"Best Model: \", best_model)"
      ],
      "metadata": {
        "colab": {
          "base_uri": "https://localhost:8080/"
        },
        "id": "q6AT7lhif2Dx",
        "outputId": "9c14d476-a0af-4ce0-8331-d6dfcbdb6ba1"
      },
      "execution_count": 58,
      "outputs": [
        {
          "output_type": "stream",
          "name": "stdout",
          "text": [
            "Best Parameters: {'svc__C': 1, 'svc__gamma': 'auto', 'svc__kernel': 'rbf'}\n",
            "Classification Report:\n",
            "               precision    recall  f1-score   support\n",
            "\n",
            "           0       0.98      0.98      0.98        64\n",
            "           1       0.99      0.99      0.99       107\n",
            "\n",
            "    accuracy                           0.99       171\n",
            "   macro avg       0.99      0.99      0.99       171\n",
            "weighted avg       0.99      0.99      0.99       171\n",
            "\n",
            "Best Model:  Pipeline(steps=[('scaler', StandardScaler()), ('svc', SVC(C=1, gamma='auto'))])\n"
          ]
        }
      ]
    },
    {
      "cell_type": "markdown",
      "source": [
        "# Evaluate the Trained Model\n",
        "\n",
        "- Evaluate standard accuracy score on training and test set\n",
        "- Identify most important features using `SelectFromModel`\n",
        "- Generate Confusion Matrix and from the result, calculate accuracy, recall, precision, and F1-score."
      ],
      "metadata": {
        "id": "Eshsg5PEouh7"
      }
    },
    {
      "cell_type": "code",
      "source": [
        "# Get predictions for training and testing sets\n",
        "y_train_pred = best_model.predict(X_train)\n",
        "y_test_pred = best_model.predict(X_test)\n",
        "\n",
        "# Compute accuracy\n",
        "train_accuracy = accuracy_score(y_train, y_train_pred)\n",
        "test_accuracy = accuracy_score(y_test, y_test_pred)\n",
        "\n",
        "print(\"Training Accuracy: {:.2f}%\".format(train_accuracy * 100))\n",
        "print(\"Testing Accuracy: {:.2f}%\".format(test_accuracy * 100))\n",
        "\n",
        "# Identify most important features by training a default SVC\n",
        "from sklearn.feature_selection import SelectFromModel\n",
        "svm = SVC(kernel=\"linear\")\n",
        "svm.fit(X_train, y_train)\n",
        "\n",
        "# Apply SelectFromModel to find important features\n",
        "selector = SelectFromModel(svm, prefit=True)  # prefit=True since SVM is already trained\n",
        "X_selected = selector.transform(X_train)  # Transform dataset to only keep selected features\n",
        "\n",
        "# Get selected feature names\n",
        "selected_features = X_train.columns[selector.get_support()]\n",
        "print(\"Selected Features:\")\n",
        "for i in list(selected_features):\n",
        "  print(i)\n",
        "\n",
        "y_pred = best_model.predict(X_test) # Prediction on the test set\n",
        "cm = confusion_matrix(y_test,y_pred)\n",
        "disp = ConfusionMatrixDisplay(confusion_matrix=cm, display_labels=data['target_names'])\n",
        "disp.plot(cmap='Blues')\n",
        "plt.title('Confusion Matrix - Best Model')\n",
        "plt.show()\n",
        "\n",
        "# Perform accuracy metrics from confusion matrix\n",
        "tp, fp, fn, tn = cm[0][0],cm[0][1],cm[1][0],cm[1][1]\n",
        "precision = (tp)/(tp+fp)\n",
        "recall = (tp)/(tp+fn)\n",
        "print(f\"\\nAccuracy score:{(tp+tn)/(tp+fn+fp+tn)}\")\n",
        "print(f\"Precision score:{precision}\")\n",
        "print(f\"Recall score:{recall}\")\n",
        "print(f\"F1 score:{2*(precision*recall)/(precision+recall)}\")"
      ],
      "metadata": {
        "colab": {
          "base_uri": "https://localhost:8080/",
          "height": 839
        },
        "id": "gG-TXiaJohLQ",
        "outputId": "20bd73ae-4f8e-4481-ba88-eb6dc13fdced"
      },
      "execution_count": 72,
      "outputs": [
        {
          "output_type": "stream",
          "name": "stdout",
          "text": [
            "Training Accuracy: 98.74%\n",
            "Testing Accuracy: 98.83%\n"
          ]
        },
        {
          "output_type": "stream",
          "name": "stderr",
          "text": [
            "/usr/local/lib/python3.11/dist-packages/sklearn/utils/validation.py:2732: UserWarning: X has feature names, but SelectFromModel was fitted without feature names\n",
            "  warnings.warn(\n"
          ]
        },
        {
          "output_type": "stream",
          "name": "stdout",
          "text": [
            "Selected Features:\n",
            "mean radius\n",
            "mean concavity\n",
            "mean symmetry\n",
            "texture error\n",
            "perimeter error\n",
            "worst smoothness\n",
            "worst compactness\n",
            "worst concavity\n",
            "worst concave points\n",
            "worst symmetry\n"
          ]
        },
        {
          "output_type": "display_data",
          "data": {
            "text/plain": [
              "<Figure size 640x480 with 2 Axes>"
            ],
            "image/png": "[encoded data removed]"
          },
          "metadata": {}
        },
        {
          "output_type": "stream",
          "name": "stdout",
          "text": [
            "\n",
            "Accuracy score:0.9883040935672515\n",
            "Precision score:0.984375\n",
            "Recall score:0.984375\n",
            "F1 score:0.984375\n"
          ]
        }
      ]
    },
    {
      "cell_type": "markdown",
      "source": [
        "# Guide Questions\n",
        "\n"
      ],
      "metadata": {
        "id": "fohhB72htyUe"
      }
    },
    {
      "cell_type": "markdown",
      "source": [
        "## 1. How did you preprocess the dataset (feature scaling, handling missing values if any, etc.)?\n",
        "\n",
        "- The data was first converted to dataframes with their feature names mapped into the columns.\n",
        "- Exploratory Data Analysis using `head`,`shape` and `info` was done to get a general overview of the dataset.\n",
        "- The `info` immediately shows the number or non-missing values in each columns, which shows no signs of it.\n",
        "- Preprocessing also involes the construction of the pipeline. Part of the `Pipeline` parameters is to identify the scaling, thus the `StandardScaler` is used as required by the task."
      ],
      "metadata": {
        "id": "p1LYapbvz0Vo"
      }
    },
    {
      "cell_type": "markdown",
      "source": [
        "## 2. Why is it necessary to split the dataset into training and testing sets?\n",
        "\n",
        "- Splitting the dataset into training and testing ensures that the model does not train itself on part of the dataset as a way to gauge its accuracy on unseen data. Untrained data can usually come from external sources (another dataset), but in this example it can be derived from a portion of the dataset itself.\n",
        "- It is also important that the training set should have larger portions, making 70% a reasonable size due to the large number of data available. For sparse datasets, 80% is usually used."
      ],
      "metadata": {
        "id": "x9UR3yykz8QL"
      }
    },
    {
      "cell_type": "markdown",
      "source": [
        "## 3. What is the role of StandardScaler in SVM training?\n",
        "\n",
        "- `StandardScaler` standardizes features by removing the mean and scaling to unit variance. To remove the mean, the standard score is calculacted as $$ z = \\frac{x-u}{s}$$\n",
        "\n",
        "- Standardization also minimizes the distance between data points. Lower distance will result in more efficient learning by the model due to less calculations involved for optimization.\n",
        "\n",
        "- Many elements used in the objective function of a learning algorithm may assume that all features are centered around zero or have variance in the same order. If a feature has a variance that is orders of magnitude larger than others, it might dominate the objective function and make the estimator unable to learn from other features correctly as expected."
      ],
      "metadata": {
        "id": "324NWwN7z_F3"
      }
    },
    {
      "cell_type": "markdown",
      "source": [
        "## 4. How does C affect the performance of an SVM model?\n",
        "\n",
        "- The `C` defines the regularization parameter for the penalty function. Recall that penalty function may be L1 (Lasso) or L2 (Ridge). Varying `C` may lead to either underfitting or overfitting depending on the visualization of its cross-validation score."
      ],
      "metadata": {
        "id": "K55D_TLf0BhB"
      }
    },
    {
      "cell_type": "markdown",
      "source": [
        "## 5. What is the purpose of the kernel function in SVM?\n",
        "\n",
        "- The kernel calculates the boundary margin between classification in SVM. This is especially useful in datasets where linear margins does not best accuractely classify the data.\n",
        "- SVC applies the **kernel trick** which computes the similarity between pairs of data points using the kernel function without explicitly transforming the entire dataset."
      ],
      "metadata": {
        "id": "7egcGFZu0Dyb"
      }
    },
    {
      "cell_type": "markdown",
      "source": [
        "## 6. What were the best hyperparameters found using GridSearchCV?\n",
        "\n",
        "- The best hyperparameters are mostly the default values:\n",
        "- `C` = 1\n",
        "- `gamma` = auto\n",
        "- `kernel` = rbf"
      ],
      "metadata": {
        "id": "Gs__iKSr0FtY"
      }
    },
    {
      "cell_type": "markdown",
      "source": [
        "## 7. What is a confusion matrix, and how is it interpreted?\n",
        "\n",
        "- The confusion matrix defines the number of data points that are classified as True Positive, False Positive, False Negative, and True Negative. For example, our dataset classifies `1` as benign and `0` as malignant.\n",
        "\n",
        "  - If a data point is actually classified as `1` and the model predicts `1` as well, it is a **True Positive**\n",
        "  - If a data point is actually classified as `0`, but the model predicts it as `1`, it is a **False Positive**\n",
        "  - If a data point is actually classified as `1`, but the model predicts it as `0`, it is a **False Negative**\n",
        "  - If a data point is actually classified as `0` and the model predicts `0` as well, it is a **True Negative**"
      ],
      "metadata": {
        "id": "VV2Q8GuO0Ik4"
      }
    },
    {
      "cell_type": "markdown",
      "source": [
        "## 8. How are Precision, Recall, and F1-score calculated from the confusion matrix?\n",
        "\n",
        "Given `TP` as True Positive, `TN` as True Negative, `FP` as False Positive, and `FN` as False Negative:\n",
        "\n",
        "$$\\text{Accuracy}=\\frac{TP+TN}{TP+FP+FN+TN}$$\n",
        "\n",
        "$$\\text{Precision} = \\frac{TP}{TP+FP}$$\n",
        "\n",
        "$$\\text{Recall} = \\frac{TP}{TP+FN}$$\n",
        "\n",
        "$$\\text{F1-Score} = 2 \\times \\frac{\\text{Precision}\\cdot\\text{Recall}}{\\text{Precision}+\\text{Recall}}$$"
      ],
      "metadata": {
        "id": "-TqWXDQW0KQY"
      }
    },
    {
      "cell_type": "markdown",
      "source": [
        "## 9. If the model does not perform well, what adjustments can be made to improve it?\n",
        "\n",
        "- Select the best hyperparameter values using hyperparameter tuning.\n",
        "- Use feature scaling through standardization techniques.\n",
        "- Select best features from the dataset that best describes the model.\n",
        "- Adjust the parameter values and use optimization functions (more applicable in Deep Learning).\n",
        "- Reduce `C` or lower `gamma` is a model is overfitted; otherwise, collect more data.\n",
        "- Increase `C` and `gamma` if a model is underfitted."
      ],
      "metadata": {
        "id": "TxYFfUYA0Loj"
      }
    }
  ]
}